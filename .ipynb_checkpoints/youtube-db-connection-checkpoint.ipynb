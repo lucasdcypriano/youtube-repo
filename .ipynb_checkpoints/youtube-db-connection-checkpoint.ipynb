{
 "cells": [
  {
   "cell_type": "code",
   "execution_count": 1,
   "id": "5fe2f60b",
   "metadata": {},
   "outputs": [],
   "source": [
    "import psycopg2 as ps\n",
    "import pandas as pd"
   ]
  },
  {
   "cell_type": "code",
   "execution_count": 2,
   "id": "ced68ac6",
   "metadata": {},
   "outputs": [
    {
     "data": {
      "text/html": [
       "<div>\n",
       "<style scoped>\n",
       "    .dataframe tbody tr th:only-of-type {\n",
       "        vertical-align: middle;\n",
       "    }\n",
       "\n",
       "    .dataframe tbody tr th {\n",
       "        vertical-align: top;\n",
       "    }\n",
       "\n",
       "    .dataframe thead th {\n",
       "        text-align: right;\n",
       "    }\n",
       "</style>\n",
       "<table border=\"1\" class=\"dataframe\">\n",
       "  <thead>\n",
       "    <tr style=\"text-align: right;\">\n",
       "      <th></th>\n",
       "      <th>video_id</th>\n",
       "      <th>video_title</th>\n",
       "      <th>video_date</th>\n",
       "      <th>view_count</th>\n",
       "      <th>like_count</th>\n",
       "      <th>comment_count</th>\n",
       "    </tr>\n",
       "  </thead>\n",
       "  <tbody>\n",
       "    <tr>\n",
       "      <th>0</th>\n",
       "      <td>Hwybp38GnZw</td>\n",
       "      <td>I Built Willy Wonka&amp;#39;s Chocolate Factory!</td>\n",
       "      <td>2022-06-04 20:00:02+00:00</td>\n",
       "      <td>72184676</td>\n",
       "      <td>3955922</td>\n",
       "      <td>167574</td>\n",
       "    </tr>\n",
       "    <tr>\n",
       "      <th>1</th>\n",
       "      <td>hD1YtmKXNb4</td>\n",
       "      <td>$10,000 Every Day You Survive Prison</td>\n",
       "      <td>2022-04-09 20:00:00+00:00</td>\n",
       "      <td>71950015</td>\n",
       "      <td>3163669</td>\n",
       "      <td>155042</td>\n",
       "    </tr>\n",
       "    <tr>\n",
       "      <th>2</th>\n",
       "      <td>LnlKwzc_TNA</td>\n",
       "      <td>Would You Swim With Sharks For $100,000?</td>\n",
       "      <td>2022-03-19 20:02:32+00:00</td>\n",
       "      <td>65759316</td>\n",
       "      <td>2554696</td>\n",
       "      <td>101023</td>\n",
       "    </tr>\n",
       "    <tr>\n",
       "      <th>3</th>\n",
       "      <td>3jS_yEK8qVI</td>\n",
       "      <td>World’s Most Dangerous Escape Room!</td>\n",
       "      <td>2022-01-29 21:00:01+00:00</td>\n",
       "      <td>105450397</td>\n",
       "      <td>3613436</td>\n",
       "      <td>143352</td>\n",
       "    </tr>\n",
       "    <tr>\n",
       "      <th>4</th>\n",
       "      <td>00NgUctWoLQ</td>\n",
       "      <td>Extreme $1,000,000 Hide And Seek</td>\n",
       "      <td>2021-12-18 21:00:00+00:00</td>\n",
       "      <td>67451827</td>\n",
       "      <td>3093434</td>\n",
       "      <td>136564</td>\n",
       "    </tr>\n",
       "  </tbody>\n",
       "</table>\n",
       "</div>"
      ],
      "text/plain": [
       "      video_id                                   video_title  \\\n",
       "0  Hwybp38GnZw  I Built Willy Wonka&#39;s Chocolate Factory!   \n",
       "1  hD1YtmKXNb4          $10,000 Every Day You Survive Prison   \n",
       "2  LnlKwzc_TNA      Would You Swim With Sharks For $100,000?   \n",
       "3  3jS_yEK8qVI           World’s Most Dangerous Escape Room!   \n",
       "4  00NgUctWoLQ              Extreme $1,000,000 Hide And Seek   \n",
       "\n",
       "                  video_date  view_count  like_count  comment_count  \n",
       "0  2022-06-04 20:00:02+00:00    72184676     3955922         167574  \n",
       "1  2022-04-09 20:00:00+00:00    71950015     3163669         155042  \n",
       "2  2022-03-19 20:02:32+00:00    65759316     2554696         101023  \n",
       "3  2022-01-29 21:00:01+00:00   105450397     3613436         143352  \n",
       "4  2021-12-18 21:00:00+00:00    67451827     3093434         136564  "
      ]
     },
     "execution_count": 2,
     "metadata": {},
     "output_type": "execute_result"
    }
   ],
   "source": [
    "df = pd.read_csv('youtubeData.csv', index_col = 0)\n",
    "df.head()"
   ]
  },
  {
   "cell_type": "code",
   "execution_count": 3,
   "id": "32265e84",
   "metadata": {},
   "outputs": [],
   "source": [
    "#connect to db\n",
    "def connect_to_db(host_name, dbname, username, password, port):\n",
    "    try:\n",
    "        conn = ps.connect(host=host_name, database=dbname, user=username, password=password, port=port)\n",
    "\n",
    "    except ps.OperationalError as e:\n",
    "        raise e\n",
    "    else:\n",
    "        print('Connected!')\n",
    "    \n",
    "    return conn\n",
    "\n",
    "#create table\n",
    "def create_table(curr):\n",
    "    \n",
    "    create_table_command = (''' CREATE TABLE IF NOT EXISTS videos (\n",
    "                            video_id VARCHAR(255) PRIMARY KEY,\n",
    "                            video_title TEXT NOT NULL,\n",
    "                            video_date DATE NOT NULL DEFAULT CURRENT_DATE,\n",
    "                            view_count INTEGER NOT NULL,\n",
    "                            like_count INTEGER NOT NULL,\n",
    "                            comment_count INTEGER NOT NULL\n",
    "                            )''')\n",
    "    \n",
    "    curr.execute(create_table_command)\n",
    "\n",
    "\n",
    "#insert videos that arent on the DB\n",
    "def insert_into_table(curr, video_id, video_title, video_date, view_count, like_count, comment_count):    \n",
    "    insert_into_videos = ('''INSERT INTO videos (video_id, video_title, video_date, view_count, like_count, comment_count)\n",
    "        VALUES(%s,%s,%s,%s,%s,%s)''')\n",
    "    row_to_insert = (video_id, video_title, video_date, view_count, like_count, comment_count)\n",
    "\n",
    "    curr.execute(insert_into_videos, row_to_insert)\n",
    "    \n",
    "\n",
    "#update row if video exists\n",
    "def update_row(curr, video_id, video_title, view_count, like_count, dislike_count, comment_count):\n",
    "    query = ('''UPDATE videos\n",
    "                SET video_title = %s,\n",
    "                    view_count = %s,\n",
    "                    like_count = %s,\n",
    "                    comment_count = %s\n",
    "                WHERE video_id = %s;''')\n",
    "\n",
    "    vars_to_update = (video_title, view_count, like_count, comment_count, video_id)\n",
    "    curr.execute(query, vars_to_update)\n",
    "\n",
    "#check if video exists\n",
    "def check_if_video_exists(curr, video_id):\n",
    "    query = ('''SELECT video_id FROM videos WHERE video_id = %s''')\n",
    "    curr.execute(query, (video_id,))\n",
    "    \n",
    "    return curr.fetchone() is not None\n",
    "\n",
    "\n",
    "def truncate_table(curr):\n",
    "    truncate_table = ('''TRUNCATE TABLE videos''')\n",
    "    \n",
    "    curr.execute(truncate_table)\n",
    "    \n",
    "def append_from_df_to_db(curr,df):\n",
    "    for i, row in df.iterrows():\n",
    "        insert_into_table(curr, row['video_id'], row['video_title'], row['video_date'], row['view_count'], row['like_count'], row['comment_count'])\n",
    "        \n",
    "def update_db(curr, df):\n",
    "    tmp_df = pd.DataFrame(columns=['video_id', 'video_title', 'video_date', 'view_count', 'like_count', 'comment_count'])\n",
    "    \n",
    "    for i, row in df.iterrows():\n",
    "        if check_if_video_exists(curr, row['video_id']):\n",
    "            update_row(curr, row['video_id'], row['video_title'],row['view_count'],row['like_count'],row['dislike_count'],row['comment_count'])\n",
    "        else:\n",
    "            tmp_df = tmp_df.append(row)\n",
    "            \n",
    "    return tmp_df\n"
   ]
  },
  {
   "cell_type": "code",
   "execution_count": 4,
   "id": "a5e657e2",
   "metadata": {},
   "outputs": [],
   "source": [
    "#updating the database\n",
    "#handling data for scalability\n",
    "\n",
    "#check to see if video exists\n",
    "\n",
    "#perform update on existing videos\n",
    "#perform an insert on new videos"
   ]
  },
  {
   "cell_type": "code",
   "execution_count": 8,
   "id": "ea573a2b",
   "metadata": {},
   "outputs": [
    {
     "ename": "OperationalError",
     "evalue": "connection to server at \"teste.clwa0hdqmgzj.us-east-1.rds.amazonaws.com\" (52.2.238.135), port 5432 failed: Connection timed out (0x0000274C/10060)\n\tIs the server running on that host and accepting TCP/IP connections?\n",
     "output_type": "error",
     "traceback": [
      "\u001b[1;31m---------------------------------------------------------------------------\u001b[0m",
      "\u001b[1;31mOperationalError\u001b[0m                          Traceback (most recent call last)",
      "Input \u001b[1;32mIn [8]\u001b[0m, in \u001b[0;36m<cell line: 8>\u001b[1;34m()\u001b[0m\n\u001b[0;32m      5\u001b[0m password\u001b[38;5;241m=\u001b[39m \u001b[38;5;124m'\u001b[39m\u001b[38;5;124mteste123\u001b[39m\u001b[38;5;124m'\u001b[39m\n\u001b[0;32m      7\u001b[0m \u001b[38;5;66;03m#Establishing connection to the db\u001b[39;00m\n\u001b[1;32m----> 8\u001b[0m conn \u001b[38;5;241m=\u001b[39m \u001b[43mconnect_to_db\u001b[49m\u001b[43m(\u001b[49m\u001b[43mhost_name\u001b[49m\u001b[43m,\u001b[49m\u001b[43m \u001b[49m\u001b[43mdbname\u001b[49m\u001b[43m,\u001b[49m\u001b[43m \u001b[49m\u001b[43musername\u001b[49m\u001b[43m,\u001b[49m\u001b[43m \u001b[49m\u001b[43mpassword\u001b[49m\u001b[43m,\u001b[49m\u001b[43m \u001b[49m\u001b[43mport\u001b[49m\u001b[43m)\u001b[49m\n\u001b[0;32m      9\u001b[0m curr \u001b[38;5;241m=\u001b[39m conn\u001b[38;5;241m.\u001b[39mcursor()\n",
      "Input \u001b[1;32mIn [3]\u001b[0m, in \u001b[0;36mconnect_to_db\u001b[1;34m(host_name, dbname, username, password, port)\u001b[0m\n\u001b[0;32m      4\u001b[0m     conn \u001b[38;5;241m=\u001b[39m ps\u001b[38;5;241m.\u001b[39mconnect(host\u001b[38;5;241m=\u001b[39mhost_name, database\u001b[38;5;241m=\u001b[39mdbname, user\u001b[38;5;241m=\u001b[39musername, password\u001b[38;5;241m=\u001b[39mpassword, port\u001b[38;5;241m=\u001b[39mport)\n\u001b[0;32m      6\u001b[0m \u001b[38;5;28;01mexcept\u001b[39;00m ps\u001b[38;5;241m.\u001b[39mOperationalError \u001b[38;5;28;01mas\u001b[39;00m e:\n\u001b[1;32m----> 7\u001b[0m     \u001b[38;5;28;01mraise\u001b[39;00m e\n\u001b[0;32m      8\u001b[0m \u001b[38;5;28;01melse\u001b[39;00m:\n\u001b[0;32m      9\u001b[0m     \u001b[38;5;28mprint\u001b[39m(\u001b[38;5;124m'\u001b[39m\u001b[38;5;124mConnected!\u001b[39m\u001b[38;5;124m'\u001b[39m)\n",
      "Input \u001b[1;32mIn [3]\u001b[0m, in \u001b[0;36mconnect_to_db\u001b[1;34m(host_name, dbname, username, password, port)\u001b[0m\n\u001b[0;32m      2\u001b[0m \u001b[38;5;28;01mdef\u001b[39;00m \u001b[38;5;21mconnect_to_db\u001b[39m(host_name, dbname, username, password, port):\n\u001b[0;32m      3\u001b[0m     \u001b[38;5;28;01mtry\u001b[39;00m:\n\u001b[1;32m----> 4\u001b[0m         conn \u001b[38;5;241m=\u001b[39m \u001b[43mps\u001b[49m\u001b[38;5;241;43m.\u001b[39;49m\u001b[43mconnect\u001b[49m\u001b[43m(\u001b[49m\u001b[43mhost\u001b[49m\u001b[38;5;241;43m=\u001b[39;49m\u001b[43mhost_name\u001b[49m\u001b[43m,\u001b[49m\u001b[43m \u001b[49m\u001b[43mdatabase\u001b[49m\u001b[38;5;241;43m=\u001b[39;49m\u001b[43mdbname\u001b[49m\u001b[43m,\u001b[49m\u001b[43m \u001b[49m\u001b[43muser\u001b[49m\u001b[38;5;241;43m=\u001b[39;49m\u001b[43musername\u001b[49m\u001b[43m,\u001b[49m\u001b[43m \u001b[49m\u001b[43mpassword\u001b[49m\u001b[38;5;241;43m=\u001b[39;49m\u001b[43mpassword\u001b[49m\u001b[43m,\u001b[49m\u001b[43m \u001b[49m\u001b[43mport\u001b[49m\u001b[38;5;241;43m=\u001b[39;49m\u001b[43mport\u001b[49m\u001b[43m)\u001b[49m\n\u001b[0;32m      6\u001b[0m     \u001b[38;5;28;01mexcept\u001b[39;00m ps\u001b[38;5;241m.\u001b[39mOperationalError \u001b[38;5;28;01mas\u001b[39;00m e:\n\u001b[0;32m      7\u001b[0m         \u001b[38;5;28;01mraise\u001b[39;00m e\n",
      "File \u001b[1;32mC:\\ProgramData\\Anaconda3\\lib\\site-packages\\psycopg2\\__init__.py:122\u001b[0m, in \u001b[0;36mconnect\u001b[1;34m(dsn, connection_factory, cursor_factory, **kwargs)\u001b[0m\n\u001b[0;32m    119\u001b[0m     kwasync[\u001b[38;5;124m'\u001b[39m\u001b[38;5;124masync_\u001b[39m\u001b[38;5;124m'\u001b[39m] \u001b[38;5;241m=\u001b[39m kwargs\u001b[38;5;241m.\u001b[39mpop(\u001b[38;5;124m'\u001b[39m\u001b[38;5;124masync_\u001b[39m\u001b[38;5;124m'\u001b[39m)\n\u001b[0;32m    121\u001b[0m dsn \u001b[38;5;241m=\u001b[39m _ext\u001b[38;5;241m.\u001b[39mmake_dsn(dsn, \u001b[38;5;241m*\u001b[39m\u001b[38;5;241m*\u001b[39mkwargs)\n\u001b[1;32m--> 122\u001b[0m conn \u001b[38;5;241m=\u001b[39m _connect(dsn, connection_factory\u001b[38;5;241m=\u001b[39mconnection_factory, \u001b[38;5;241m*\u001b[39m\u001b[38;5;241m*\u001b[39mkwasync)\n\u001b[0;32m    123\u001b[0m \u001b[38;5;28;01mif\u001b[39;00m cursor_factory \u001b[38;5;129;01mis\u001b[39;00m \u001b[38;5;129;01mnot\u001b[39;00m \u001b[38;5;28;01mNone\u001b[39;00m:\n\u001b[0;32m    124\u001b[0m     conn\u001b[38;5;241m.\u001b[39mcursor_factory \u001b[38;5;241m=\u001b[39m cursor_factory\n",
      "\u001b[1;31mOperationalError\u001b[0m: connection to server at \"teste.clwa0hdqmgzj.us-east-1.rds.amazonaws.com\" (52.2.238.135), port 5432 failed: Connection timed out (0x0000274C/10060)\n\tIs the server running on that host and accepting TCP/IP connections?\n"
     ]
    }
   ],
   "source": [
    "host_name= 'database-1.clwa0hdqmgzj.us-east-1.rds.amazonaws.com'\n",
    "dbname= 'aws_rds_db'\n",
    "port= '5432'\n",
    "username= 'postgres'\n",
    "password= 'senha123'\n",
    "\n",
    "#Establishing connection to the db\n",
    "conn = connect_to_db(host_name, dbname, username, password, port)\n",
    "curr = conn.cursor()"
   ]
  },
  {
   "cell_type": "code",
   "execution_count": null,
   "id": "f6e8e29b",
   "metadata": {},
   "outputs": [],
   "source": [
    "#create_table(curr)"
   ]
  },
  {
   "cell_type": "code",
   "execution_count": null,
   "id": "00b4ec3c",
   "metadata": {},
   "outputs": [],
   "source": [
    "new_vid_df = update_db(curr,df)\n",
    "conn.commit()"
   ]
  },
  {
   "cell_type": "code",
   "execution_count": null,
   "id": "69862ae4",
   "metadata": {},
   "outputs": [],
   "source": [
    "append_from_df_to_db(curr, new_vid_df)\n",
    "conn.commit()"
   ]
  },
  {
   "cell_type": "code",
   "execution_count": null,
   "id": "bc8ff707",
   "metadata": {},
   "outputs": [],
   "source": [
    "curr.execute('''SELECT * FROM videos''')\n",
    "print(curr.fetchall())"
   ]
  },
  {
   "cell_type": "code",
   "execution_count": null,
   "id": "3fafd0fd",
   "metadata": {},
   "outputs": [],
   "source": [
    "curr.close()"
   ]
  }
 ],
 "metadata": {
  "kernelspec": {
   "display_name": "Python 3 (ipykernel)",
   "language": "python",
   "name": "python3"
  },
  "language_info": {
   "codemirror_mode": {
    "name": "ipython",
    "version": 3
   },
   "file_extension": ".py",
   "mimetype": "text/x-python",
   "name": "python",
   "nbconvert_exporter": "python",
   "pygments_lexer": "ipython3",
   "version": "3.9.12"
  }
 },
 "nbformat": 4,
 "nbformat_minor": 5
}
